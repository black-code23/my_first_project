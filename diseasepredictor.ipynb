{
  "nbformat": 4,
  "nbformat_minor": 0,
  "metadata": {
    "colab": {
      "provenance": [],
      "authorship_tag": "ABX9TyMZMNdwn1DupIu9no/dWKHS",
      "include_colab_link": true
    },
    "kernelspec": {
      "name": "python3",
      "display_name": "Python 3"
    },
    "language_info": {
      "name": "python"
    }
  },
  "cells": [
    {
      "cell_type": "markdown",
      "metadata": {
        "id": "view-in-github",
        "colab_type": "text"
      },
      "source": [
        "<a href=\"https://colab.research.google.com/github/black-code23/my_first_project/blob/main/diseasepredictor.ipynb\" target=\"_parent\"><img src=\"https://colab.research.google.com/assets/colab-badge.svg\" alt=\"Open In Colab\"/></a>"
      ]
    },
    {
      "cell_type": "code",
      "execution_count": 5,
      "metadata": {
        "colab": {
          "base_uri": "https://localhost:8080/"
        },
        "id": "9UQIc44KW6y8",
        "outputId": "356756a9-9753-466b-e0a6-1ba4da71242e"
      },
      "outputs": [
        {
          "output_type": "stream",
          "name": "stdout",
          "text": [
            "Requirement already satisfied: transformers in /usr/local/lib/python3.10/dist-packages (4.44.2)\n",
            "Requirement already satisfied: torch in /usr/local/lib/python3.10/dist-packages (2.5.0+cu121)\n",
            "Requirement already satisfied: filelock in /usr/local/lib/python3.10/dist-packages (from transformers) (3.16.1)\n",
            "Requirement already satisfied: huggingface-hub<1.0,>=0.23.2 in /usr/local/lib/python3.10/dist-packages (from transformers) (0.24.7)\n",
            "Requirement already satisfied: numpy>=1.17 in /usr/local/lib/python3.10/dist-packages (from transformers) (1.26.4)\n",
            "Requirement already satisfied: packaging>=20.0 in /usr/local/lib/python3.10/dist-packages (from transformers) (24.1)\n",
            "Requirement already satisfied: pyyaml>=5.1 in /usr/local/lib/python3.10/dist-packages (from transformers) (6.0.2)\n",
            "Requirement already satisfied: regex!=2019.12.17 in /usr/local/lib/python3.10/dist-packages (from transformers) (2024.9.11)\n",
            "Requirement already satisfied: requests in /usr/local/lib/python3.10/dist-packages (from transformers) (2.32.3)\n",
            "Requirement already satisfied: safetensors>=0.4.1 in /usr/local/lib/python3.10/dist-packages (from transformers) (0.4.5)\n",
            "Requirement already satisfied: tokenizers<0.20,>=0.19 in /usr/local/lib/python3.10/dist-packages (from transformers) (0.19.1)\n",
            "Requirement already satisfied: tqdm>=4.27 in /usr/local/lib/python3.10/dist-packages (from transformers) (4.66.6)\n",
            "Requirement already satisfied: typing-extensions>=4.8.0 in /usr/local/lib/python3.10/dist-packages (from torch) (4.12.2)\n",
            "Requirement already satisfied: networkx in /usr/local/lib/python3.10/dist-packages (from torch) (3.4.2)\n",
            "Requirement already satisfied: jinja2 in /usr/local/lib/python3.10/dist-packages (from torch) (3.1.4)\n",
            "Requirement already satisfied: fsspec in /usr/local/lib/python3.10/dist-packages (from torch) (2024.10.0)\n",
            "Requirement already satisfied: sympy==1.13.1 in /usr/local/lib/python3.10/dist-packages (from torch) (1.13.1)\n",
            "Requirement already satisfied: mpmath<1.4,>=1.1.0 in /usr/local/lib/python3.10/dist-packages (from sympy==1.13.1->torch) (1.3.0)\n",
            "Requirement already satisfied: MarkupSafe>=2.0 in /usr/local/lib/python3.10/dist-packages (from jinja2->torch) (3.0.2)\n",
            "Requirement already satisfied: charset-normalizer<4,>=2 in /usr/local/lib/python3.10/dist-packages (from requests->transformers) (3.4.0)\n",
            "Requirement already satisfied: idna<4,>=2.5 in /usr/local/lib/python3.10/dist-packages (from requests->transformers) (3.10)\n",
            "Requirement already satisfied: urllib3<3,>=1.21.1 in /usr/local/lib/python3.10/dist-packages (from requests->transformers) (2.2.3)\n",
            "Requirement already satisfied: certifi>=2017.4.17 in /usr/local/lib/python3.10/dist-packages (from requests->transformers) (2024.8.30)\n"
          ]
        }
      ],
      "source": [
        "!pip install transformers torch\n"
      ]
    },
    {
      "cell_type": "code",
      "source": [
        "from transformers import AutoTokenizer, AutoModelForSequenceClassification\n",
        "import torch\n"
      ],
      "metadata": {
        "id": "DqLi9KhcXb03"
      },
      "execution_count": 6,
      "outputs": []
    },
    {
      "cell_type": "code",
      "source": [
        "\n",
        "model_name = \"Zabihin/Symptom_to_Diagnosis\"\n",
        "tokenizer = AutoTokenizer.from_pretrained(model_name)\n",
        "model = AutoModelForSequenceClassification.from_pretrained(model_name,from_tf = True,attn_implementation=\"eager\")"
      ],
      "metadata": {
        "colab": {
          "base_uri": "https://localhost:8080/"
        },
        "id": "qn7PC_KCXgn-",
        "outputId": "9d444311-8a2d-4262-bcc9-dbce194f7139"
      },
      "execution_count": 7,
      "outputs": [
        {
          "output_type": "stream",
          "name": "stderr",
          "text": [
            "All TF 2.0 model weights were used when initializing BertForSequenceClassification.\n",
            "\n",
            "All the weights of BertForSequenceClassification were initialized from the TF 2.0 model.\n",
            "If your task is similar to the task the model of the checkpoint was trained on, you can already use BertForSequenceClassification for predictions without further training.\n"
          ]
        }
      ]
    },
    {
      "cell_type": "code",
      "source": [
        "\n",
        "text = input(\"Enter symptoms (separated by commas): \")\n",
        "\n",
        "\n",
        "inputs = tokenizer(text, return_tensors=\"pt\")\n"
      ],
      "metadata": {
        "colab": {
          "base_uri": "https://localhost:8080/"
        },
        "id": "XPawGQ7Qej-8",
        "outputId": "1088c355-a7a3-41fe-d6eb-ec11596f4408"
      },
      "execution_count": 8,
      "outputs": [
        {
          "name": "stdout",
          "output_type": "stream",
          "text": [
            "Enter symptoms (separated by commas): headaache,fever,coldness\n"
          ]
        }
      ]
    },
    {
      "cell_type": "code",
      "source": [
        "with torch.no_grad():\n",
        "    outputs = model(**inputs)\n",
        "logits = outputs.logits\n",
        "probabilities = torch.softmax(logits, dim=1)\n",
        "predicted_class_idx = probabilities.argmax().item()\n",
        "\n",
        "\n",
        "id2label = {\n",
        "    \"0\": \"allergy\",\n",
        "    \"1\": \"arthritis\",\n",
        "    \"2\": \"bronchial asthma\",\n",
        "    \"3\": \"cervical spondylosis\",\n",
        "    \"4\": \"chicken pox\",\n",
        "    \"5\": \"common cold\",\n",
        "    \"6\": \"dengue\",\n",
        "    \"7\": \"diabetes\",\n",
        "    \"8\": \"drug reaction\",\n",
        "    \"9\": \"fungal infection\",\n",
        "    \"10\": \"gastroesophageal reflux disease\",\n",
        "    \"11\": \"hypertension\",\n",
        "    \"12\": \"impetigo\",\n",
        "    \"13\": \"jaundice\",\n",
        "    \"14\": \"malaria\",\n",
        "    \"15\": \"migraine\",\n",
        "    \"16\": \"peptic ulcer disease\",\n",
        "    \"17\": \"pneumonia\",\n",
        "    \"18\": \"psoriasis\",\n",
        "    \"19\": \"typhoid\",\n",
        "    \"20\": \"urinary tract infection\",\n",
        "    \"21\": \"varicose veins\"\n",
        "}\n",
        "\n",
        "\n",
        "predicted_class_label = id2label[str(predicted_class_idx)]\n",
        "\n",
        "print(f\"Predicted Class Label: {predicted_class_label}\")\n",
        "print(f\"Confidence Score: {probabilities[0][predicted_class_idx].item():.2f}\")\n",
        "\n"
      ],
      "metadata": {
        "id": "FYkasIwPhQyO",
        "colab": {
          "base_uri": "https://localhost:8080/"
        },
        "outputId": "dc4a53c3-b708-448e-defa-5e821e6079b5"
      },
      "execution_count": 9,
      "outputs": [
        {
          "output_type": "stream",
          "name": "stdout",
          "text": [
            "Predicted Class Label: common cold\n",
            "Confidence Score: 0.19\n"
          ]
        }
      ]
    },
    {
      "cell_type": "code",
      "source": [
        "from transformers import AutoTokenizer, AutoModelForSequenceClassification\n",
        "import torch\n",
        "\n",
        "\n",
        "model_name = \"Zabihin/Symptom_to_Diagnosis\"\n",
        "tokenizer = AutoTokenizer.from_pretrained(model_name)\n",
        "model = AutoModelForSequenceClassification.from_pretrained(model_name, from_tf=True, attn_implementation=\"eager\")\n",
        "\n",
        "\n",
        "id2label = {\n",
        "    \"0\": \"allergy\",\n",
        "    \"1\": \"arthritis\",\n",
        "    \"2\": \"bronchial asthma\",\n",
        "    \"3\": \"cervical spondylosis\",\n",
        "    \"4\": \"chicken pox\",\n",
        "    \"5\": \"common cold\",\n",
        "    \"6\": \"dengue\",\n",
        "    \"7\": \"diabetes\",\n",
        "    \"8\": \"drug reaction\",\n",
        "    \"9\": \"fungal infection\",\n",
        "    \"10\": \"gastroesophageal reflux disease\",\n",
        "    \"11\": \"hypertension\",\n",
        "    \"12\": \"impetigo\",\n",
        "    \"13\": \"jaundice\",\n",
        "    \"14\": \"malaria\",\n",
        "    \"15\": \"migraine\",\n",
        "    \"16\": \"peptic ulcer disease\",\n",
        "    \"17\": \"pneumonia\",\n",
        "    \"18\": \"psoriasis\",\n",
        "    \"19\": \"typhoid\",\n",
        "    \"20\": \"urinary tract infection\",\n",
        "    \"21\": \"varicose veins\"\n",
        "}\n",
        "\n",
        "\n",
        "text = input(\"Enter symptoms (separated by commas): \")\n",
        "inputs = tokenizer(text, return_tensors=\"pt\")\n",
        "\n",
        "with torch.no_grad():\n",
        "    outputs = model(**inputs)\n",
        "logits = outputs.logits\n",
        "probabilities = torch.softmax(logits, dim=1)\n",
        "predicted_class_idx = probabilities.argmax().item()\n",
        "\n",
        "\n",
        "predicted_class_label = id2label[str(predicted_class_idx)]\n",
        "\n",
        "print(f\"Predicted Class Label: {predicted_class_label}\")\n",
        "print(f\"Confidence Score: {probabilities[0][predicted_class_idx].item():.2f}\")"
      ],
      "metadata": {
        "colab": {
          "base_uri": "https://localhost:8080/"
        },
        "id": "sAEy6C7wp7y6",
        "outputId": "3019a3cb-9e28-45ed-aab7-e9ab82637ddf"
      },
      "execution_count": 10,
      "outputs": [
        {
          "output_type": "stream",
          "name": "stderr",
          "text": [
            "All TF 2.0 model weights were used when initializing BertForSequenceClassification.\n",
            "\n",
            "All the weights of BertForSequenceClassification were initialized from the TF 2.0 model.\n",
            "If your task is similar to the task the model of the checkpoint was trained on, you can already use BertForSequenceClassification for predictions without further training.\n"
          ]
        },
        {
          "output_type": "stream",
          "name": "stdout",
          "text": [
            "Enter symptoms (separated by commas): headache,fever,coldness\n",
            "Predicted Class Label: dengue\n",
            "Confidence Score: 0.48\n"
          ]
        }
      ]
    },
    {
      "cell_type": "code",
      "source": [
        "import pickle\n",
        "from transformers import AutoTokenizer, AutoModelForSequenceClassification\n",
        "\n",
        "\n",
        "model_name = \"Zabihin/Symptom_to_Diagnosis\"\n",
        "tokenizer = AutoTokenizer.from_pretrained(model_name)\n",
        "model = AutoModelForSequenceClassification.from_pretrained(model_name, from_tf=True, attn_implementation=\"eager\")\n",
        "\n",
        "\n",
        "id2label = {\n",
        "    \"0\": \"allergy\",\n",
        "    \"1\": \"arthritis\",\n",
        "    \"2\": \"bronchial asthma\",\n",
        "    \"3\": \"cervical spondylosis\",\n",
        "    \"4\": \"chicken pox\",\n",
        "    \"5\": \"common cold\",\n",
        "    \"6\": \"dengue\",\n",
        "    \"7\": \"diabetes\",\n",
        "    \"8\": \"drug reaction\",\n",
        "    \"9\": \"fungal infection\",\n",
        "    \"10\": \"gastroesophageal reflux disease\",\n",
        "    \"11\": \"hypertension\",\n",
        "    \"12\": \"impetigo\",\n",
        "    \"13\": \"jaundice\",\n",
        "    \"14\": \"malaria\",\n",
        "    \"15\": \"migraine\",\n",
        "    \"16\": \"peptic ulcer disease\",\n",
        "    \"17\": \"pneumonia\",\n",
        "    \"18\": \"psoriasis\",\n",
        "    \"19\": \"typhoid\",\n",
        "    \"20\": \"urinary tract infection\",\n",
        "    \"21\": \"varicose veins\"\n",
        "}\n",
        "\n",
        "\n",
        "with open('symptom_diagnosis_model.pkl', 'wb') as file:\n",
        "    pickle.dump((model, tokenizer, id2label), file)\n",
        "\n",
        "print(\"Model, tokenizer, and id2label saved to symptom_diagnosis_model.pkl\")\n"
      ],
      "metadata": {
        "colab": {
          "base_uri": "https://localhost:8080/"
        },
        "id": "0MA6zGnf3C01",
        "outputId": "924815d6-0d80-40d1-bac1-d1f6fae1255a"
      },
      "execution_count": 4,
      "outputs": [
        {
          "output_type": "stream",
          "name": "stderr",
          "text": [
            "All TF 2.0 model weights were used when initializing BertForSequenceClassification.\n",
            "\n",
            "All the weights of BertForSequenceClassification were initialized from the TF 2.0 model.\n",
            "If your task is similar to the task the model of the checkpoint was trained on, you can already use BertForSequenceClassification for predictions without further training.\n"
          ]
        },
        {
          "output_type": "stream",
          "name": "stdout",
          "text": [
            "Model, tokenizer, and id2label saved to symptom_diagnosis_model.pkl\n"
          ]
        }
      ]
    },
    {
      "cell_type": "code",
      "source": [
        "import pickle\n",
        "\n",
        "\n",
        "with open('symptom_diagnosis_model.pkl', 'rb') as file:\n",
        "    model, tokenizer, id2label = pickle.load(file)\n",
        "\n"
      ],
      "metadata": {
        "id": "SMEqSa_Q3k-B"
      },
      "execution_count": 11,
      "outputs": []
    }
  ]
}